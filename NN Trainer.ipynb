{
 "cells": [
  {
   "cell_type": "code",
   "execution_count": 1,
   "metadata": {
    "collapsed": true
   },
   "outputs": [],
   "source": [
    "import re\n",
    "def process_tweet(tweet = \"\"):\n",
    "    cleaned = tweet.upper()\n",
    "    cleaned = re.sub('&\\w+;',   '',  cleaned)\n",
    "    cleaned = re.sub('\\'',      '',  cleaned)\n",
    "    cleaned = re.sub('@\\w+ ',   ' ',  cleaned)\n",
    "    cleaned = re.sub('#\\w+ ',   ' ',  cleaned)\n",
    "    cleaned = re.sub('[^A-Z ]', '',  cleaned)\n",
    "    cleaned = re.sub('[ ]+',    ' ', cleaned)\n",
    "    return cleaned.strip()"
   ]
  },
  {
   "cell_type": "code",
   "execution_count": 2,
   "metadata": {
    "collapsed": true
   },
   "outputs": [],
   "source": [
    "# Import `data` from file\n",
    "filename = \"training.1600000.processed.noemoticon.csv\"\n",
    "columns  = ['polarity','id','date','query','user','text']\n",
    "\n",
    "import os, pandas as pd, numpy as np\n",
    "\"\"\"\n",
    "0 - the polarity of the tweet (0 = negative, 2 = neutral, 4 = positive)\n",
    "1 - the id of the tweet (2087)\n",
    "2 - the date of the tweet (Sat May 16 23:58:44 UTC 2009)\n",
    "3 - the query (lyx). If there is no query, then this value is NO_QUERY.\n",
    "4 - the user that tweeted (robotickilldozr)\n",
    "5 - the text of the tweet (Lyx is cool)\n",
    "\"\"\"\n",
    "\n",
    "\n",
    "df = pd.read_csv(filename, names=columns)\n",
    "df = df[['polarity','text']]    # Filter out relevant columns\n",
    "df = df[df.polarity != 2]       # Do not consider neutral polarity\n",
    "df = df.sample(frac=1)          # Randomize order\n",
    "df.text = map(process_tweet, df.text)"
   ]
  },
  {
   "cell_type": "code",
   "execution_count": 3,
   "metadata": {
    "collapsed": true
   },
   "outputs": [],
   "source": [
    "from tflearn.data_utils import VocabularyProcessor, to_categorical\n",
    "\n",
    "max_tweet_length = 40\n",
    "min_frequency    = 1000 # 100 -> 82.12%, 50 -> \n",
    "tweets           = df.text.values\n",
    "vp               = VocabularyProcessor(max_tweet_length, min_frequency=min_frequency)\n",
    "vp               = vp.fit(tweets)\n",
    "tweets_parsed    = vp.transform(tweets)\n",
    "vocab_size       = len(vp.vocabulary_._mapping.items())\n",
    "\n",
    "\n",
    "X = [x for x in tweets_parsed]\n",
    "Y = to_categorical([0 if p == 0 else 1 for p in df.polarity.values], 2)\n"
   ]
  },
  {
   "cell_type": "code",
   "execution_count": 4,
   "metadata": {},
   "outputs": [],
   "source": [
    "# Construct the model\n",
    "import tflearn\n",
    "\n",
    "net = tflearn.input_data([None, max_tweet_length])\n",
    "net = tflearn.embedding(net, input_dim=vocab_size, output_dim=256)\n",
    "net = tflearn.lstm(net, 256, dropout=0.8, return_seq=True)\n",
    "net = tflearn.lstm(net, 256, dropout=0.8)\n",
    "net = tflearn.fully_connected(net, 2, activation='softmax')\n",
    "net = tflearn.regression(net, optimizer='adam', learning_rate=0.001, loss='categorical_crossentropy')\n",
    "\n",
    "# Training\n",
    "model = tflearn.DNN(net, tensorboard_verbose=3, tensorboard_dir='./tensorboard')"
   ]
  },
  {
   "cell_type": "code",
   "execution_count": null,
   "metadata": {},
   "outputs": [
    {
     "name": "stdout",
     "output_type": "stream",
     "text": [
      "Training Step: 25638  | total loss: \u001b[1m\u001b[32m0.40012\u001b[0m\u001b[0m | time: 322.857s\n",
      "\u001b[2K\r",
      "| Adam | epoch: 005 | loss: 0.40012 - acc: 0.8143 -- iter: 0803328/1440000\n"
     ]
    }
   ],
   "source": [
    "model.fit(X, Y, validation_set=0.1, show_metric=True, batch_size=256)"
   ]
  },
  {
   "cell_type": "code",
   "execution_count": 7,
   "metadata": {},
   "outputs": [
    {
     "name": "stdout",
     "output_type": "stream",
     "text": [
      "INFO:tensorflow:/home/tensorflow/tweets-100.model is not in all_model_checkpoint_paths. Manually adding it.\n",
      "WARNING:tensorflow:Error encountered when serializing layer_tensor/LSTM.\n",
      "Type is unsupported, or the types of the items don't match field type in CollectionDef.\n",
      "'list' object has no attribute 'name'\n"
     ]
    }
   ],
   "source": [
    "# Save so that can be loaded later\n",
    "vp.save(\"tweets-%d.vocabulary\" % min_frequency)\n",
    "model.save(\"tweets-%d.model\" % min_frequency)   "
   ]
  }
 ],
 "metadata": {
  "kernelspec": {
   "display_name": "Python 2",
   "language": "python",
   "name": "python2"
  },
  "language_info": {
   "codemirror_mode": {
    "name": "ipython",
    "version": 2
   },
   "file_extension": ".py",
   "mimetype": "text/x-python",
   "name": "python",
   "nbconvert_exporter": "python",
   "pygments_lexer": "ipython2",
   "version": "2.7.12"
  }
 },
 "nbformat": 4,
 "nbformat_minor": 2
}
